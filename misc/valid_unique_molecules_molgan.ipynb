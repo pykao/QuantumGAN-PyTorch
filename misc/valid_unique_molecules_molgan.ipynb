{
 "cells": [
  {
   "cell_type": "code",
   "execution_count": 1,
   "id": "d8d11d6d",
   "metadata": {},
   "outputs": [],
   "source": [
    "import pennylane as qml\n",
    "import random\n",
    "import os\n",
    "import pandas as pd\n",
    "import torch\n",
    "import numpy as np\n",
    "import matplotlib.pyplot as plt\n",
    "import os\n",
    "os.chdir('../')"
   ]
  },
  {
   "cell_type": "code",
   "execution_count": 2,
   "id": "f3b831b6",
   "metadata": {},
   "outputs": [],
   "source": [
    "#device = torch.device('cuda' if torch.cuda.is_available() else 'cpu')\n",
    "device = 'cpu'"
   ]
  },
  {
   "cell_type": "code",
   "execution_count": 3,
   "id": "197b59ae",
   "metadata": {},
   "outputs": [],
   "source": [
    "date = '20211014_151730'\n",
    "\n",
    "resume_iters = 120\n",
    "\n",
    "test_sample_size = 50\n",
    "\n",
    "layer =1\n",
    "\n",
    "z_dim = 8"
   ]
  },
  {
   "cell_type": "code",
   "execution_count": 4,
   "id": "7d35690c",
   "metadata": {},
   "outputs": [],
   "source": [
    "model_dir_path = r'/home/ken/projects/QuantumGAN-PyTorch/results/GAN/'+date+'/train/model_dir'"
   ]
  },
  {
   "cell_type": "code",
   "execution_count": 5,
   "id": "8147c59a",
   "metadata": {},
   "outputs": [],
   "source": [
    "def sample_z(batch_size):\n",
    "    return np.random.normal(0, 1, size=(batch_size, z_dim))"
   ]
  },
  {
   "cell_type": "code",
   "execution_count": 6,
   "id": "0e50fa19",
   "metadata": {},
   "outputs": [],
   "source": [
    "z = sample_z(test_sample_size)"
   ]
  },
  {
   "cell_type": "markdown",
   "id": "26607432",
   "metadata": {},
   "source": [
    "# Data"
   ]
  },
  {
   "cell_type": "code",
   "execution_count": 7,
   "id": "e8320eb6",
   "metadata": {},
   "outputs": [],
   "source": [
    "from data.sparse_molecular_dataset import SparseMolecularDataset"
   ]
  },
  {
   "cell_type": "code",
   "execution_count": 8,
   "id": "cd54809d",
   "metadata": {},
   "outputs": [],
   "source": [
    "mol_data_dir = 'data/gdb9_9nodes.sparsedataset'"
   ]
  },
  {
   "cell_type": "code",
   "execution_count": 9,
   "id": "d3204854",
   "metadata": {},
   "outputs": [],
   "source": [
    "data = SparseMolecularDataset()\n",
    "\n",
    "data.load(mol_data_dir)"
   ]
  },
  {
   "cell_type": "markdown",
   "id": "bbb8c65d",
   "metadata": {},
   "source": [
    "# Generator"
   ]
  },
  {
   "cell_type": "code",
   "execution_count": 10,
   "id": "91823a44",
   "metadata": {},
   "outputs": [],
   "source": [
    "from models.models import Generator, Discriminator"
   ]
  },
  {
   "cell_type": "code",
   "execution_count": 11,
   "id": "bc6b018e",
   "metadata": {},
   "outputs": [],
   "source": [
    "complexity = 'nr'\n",
    "\n",
    "dropout = 0.0"
   ]
  },
  {
   "cell_type": "code",
   "execution_count": 12,
   "id": "8a0d03ab",
   "metadata": {},
   "outputs": [],
   "source": [
    "if complexity == 'nr':\n",
    "    g_conv_dim = [128, 256, 512]\n",
    "elif complexity == 'mr':\n",
    "    g_conv_dim = [128]\n",
    "elif complexity == 'hr':\n",
    "    g_conv_dim = [16]\n",
    "else:\n",
    "    raise ValueError(\"Please enter an valid model complexity from 'mr', 'hr' or 'nr'!\")"
   ]
  },
  {
   "cell_type": "code",
   "execution_count": 13,
   "id": "477aec14",
   "metadata": {},
   "outputs": [],
   "source": [
    "G = Generator(g_conv_dim, z_dim, data.vertexes, data.bond_num_types, data.atom_num_types, dropout)"
   ]
  },
  {
   "cell_type": "code",
   "execution_count": 14,
   "id": "32282241",
   "metadata": {},
   "outputs": [
    {
     "data": {
      "text/plain": [
       "Generator(\n",
       "  (activation_f): Tanh()\n",
       "  (multi_dense_layers): MultiDenseLayers(\n",
       "    (activation): Tanh()\n",
       "    (linear_layers): Sequential(\n",
       "      (0): Linear(in_features=8, out_features=128, bias=True)\n",
       "      (1): Tanh()\n",
       "      (2): Dropout(p=0.0, inplace=False)\n",
       "      (3): Linear(in_features=128, out_features=256, bias=True)\n",
       "      (4): Tanh()\n",
       "      (5): Dropout(p=0.0, inplace=False)\n",
       "      (6): Linear(in_features=256, out_features=512, bias=True)\n",
       "      (7): Tanh()\n",
       "      (8): Dropout(p=0.0, inplace=False)\n",
       "    )\n",
       "  )\n",
       "  (edges_layer): Linear(in_features=512, out_features=405, bias=True)\n",
       "  (nodes_layer): Linear(in_features=512, out_features=45, bias=True)\n",
       "  (dropout): Dropout(p=0.0, inplace=False)\n",
       ")"
      ]
     },
     "execution_count": 14,
     "metadata": {},
     "output_type": "execute_result"
    }
   ],
   "source": [
    "G.to(device)"
   ]
  },
  {
   "cell_type": "code",
   "execution_count": 15,
   "id": "61cc08c3",
   "metadata": {},
   "outputs": [],
   "source": [
    "G_path = os.path.join(model_dir_path, '{}-G.ckpt'.format(resume_iters))"
   ]
  },
  {
   "cell_type": "code",
   "execution_count": 16,
   "id": "ff02ba9d",
   "metadata": {
    "scrolled": true
   },
   "outputs": [
    {
     "data": {
      "text/plain": [
       "<All keys matched successfully>"
      ]
     },
     "execution_count": 16,
     "metadata": {},
     "output_type": "execute_result"
    }
   ],
   "source": [
    "G.load_state_dict(torch.load(G_path, map_location=lambda storage, loc: storage))"
   ]
  },
  {
   "cell_type": "markdown",
   "id": "3ff9353c",
   "metadata": {},
   "source": [
    "# Generating Molecules"
   ]
  },
  {
   "cell_type": "code",
   "execution_count": 17,
   "id": "05d0fd00",
   "metadata": {},
   "outputs": [],
   "source": [
    "import torch.nn.functional as F"
   ]
  },
  {
   "cell_type": "code",
   "execution_count": 18,
   "id": "794299eb",
   "metadata": {},
   "outputs": [],
   "source": [
    "z = torch.from_numpy(z).to(device).float()"
   ]
  },
  {
   "cell_type": "code",
   "execution_count": 19,
   "id": "9b6f256d",
   "metadata": {},
   "outputs": [],
   "source": [
    "post_method = 'softmax'"
   ]
  },
  {
   "cell_type": "code",
   "execution_count": 20,
   "id": "b1de41e1",
   "metadata": {},
   "outputs": [],
   "source": [
    "edges_logits, nodes_logits = G(z)"
   ]
  },
  {
   "cell_type": "code",
   "execution_count": 21,
   "id": "18f78a8f",
   "metadata": {},
   "outputs": [],
   "source": [
    "def postprocess(inputs, method, temperature=1.0):\n",
    "    def listify(x):\n",
    "        return x if type(x) == list or type(x) == tuple else [x]\n",
    "    def delistify(x):\n",
    "        return x if len(x) > 1 else x[0]\n",
    "    if method == 'soft_gumbel':\n",
    "        softmax = [F.gumbel_softmax(e_logits.contiguous().view(-1, e_logits.size(-1))/temperature, hard=False).view(e_logits.size()) for e_logits in listify(inputs)]\n",
    "    elif method == 'hard_gumbel':\n",
    "        softmax = [F.gumbel_softmax(e_logits.contiguous().view(-1, e_logits.size(-1))/temperature, hard=True).view(e_logits.size()) for e_logits in listify(inputs)]\n",
    "    else:\n",
    "        softmax = [F.softmax(e_logits/temperature, -1) for e_logits in listify(inputs)]\n",
    "    return [delistify(e) for e in (softmax)]"
   ]
  },
  {
   "cell_type": "code",
   "execution_count": 22,
   "id": "c548db7b",
   "metadata": {},
   "outputs": [],
   "source": [
    "(edges_hat, nodes_hat) = postprocess((edges_logits, nodes_logits), post_method)   "
   ]
  },
  {
   "cell_type": "markdown",
   "id": "6b5bc25f",
   "metadata": {
    "scrolled": true
   },
   "source": [
    "edges_hat_numpy = edges_hat.cpu().detach().numpy()\n",
    "nodes_hat_numpy = nodes_hat.cpu().detach().numpy()\n",
    "np.save(\"edges_hat.npy\", edges_hat_numpy)\n",
    "np.save(\"nodes_hat.npy\", nodes_hat_numpy)"
   ]
  },
  {
   "cell_type": "code",
   "execution_count": 23,
   "id": "797bec54",
   "metadata": {},
   "outputs": [],
   "source": [
    "def get_gen_mols(data, n_hat, e_hat, method):\n",
    "    (edges_hard, nodes_hard) = postprocess((e_hat, n_hat), method)\n",
    "    edges_hard, nodes_hard = torch.max(edges_hard, -1)[1], torch.max(nodes_hard, -1)[1]\n",
    "    mols = [data.matrices2mol(n_.data.cpu().numpy(), e_.data.cpu().numpy(), strict=True) for e_, n_ in zip(edges_hard, nodes_hard)]\n",
    "    return mols"
   ]
  },
  {
   "cell_type": "code",
   "execution_count": 24,
   "id": "19b5836e",
   "metadata": {
    "scrolled": false
   },
   "outputs": [
    {
     "name": "stderr",
     "output_type": "stream",
     "text": [
      "RDKit ERROR: [17:33:54] Explicit valence for atom # 1 O, 3, is greater than permitted\n",
      "[17:33:54] Explicit valence for atom # 1 O, 3, is greater than permitted\n",
      "RDKit ERROR: [17:33:54] non-ring atom 0 marked aromatic\n",
      "[17:33:54] non-ring atom 0 marked aromatic\n",
      "RDKit ERROR: [17:33:54] Can't kekulize mol.  Unkekulized atoms: 1 6 8\n",
      "RDKit ERROR: \n",
      "RDKit ERROR: [17:33:54] Can't kekulize mol.  Unkekulized atoms: 1 2 8\n",
      "[17:33:54] Can't kekulize mol.  Unkekulized atoms: 1 6 8\n",
      "\n",
      "[17:33:54] Can't kekulize mol.  Unkekulized atoms: 1 2 8\n",
      "\n",
      "RDKit ERROR: \n",
      "RDKit ERROR: [17:33:54] Explicit valence for atom # 4 N, 4, is greater than permitted\n",
      "[17:33:54] Explicit valence for atom # 4 N, 4, is greater than permitted\n",
      "RDKit ERROR: [17:33:54] Explicit valence for atom # 7 F, 2, is greater than permitted\n",
      "[17:33:54] Explicit valence for atom # 7 F, 2, is greater than permitted\n",
      "RDKit ERROR: [17:33:54] Can't kekulize mol.  Unkekulized atoms: 0 1 2 4 5 6 8\n",
      "[17:33:54] Can't kekulize mol.  Unkekulized atoms: 0 1 2 4 5 6 8\n",
      "\n",
      "RDKit ERROR: \n",
      "RDKit ERROR: [17:33:54] Can't kekulize mol.  Unkekulized atoms: 0 1 2 4 5 6 8\n",
      "RDKit ERROR: \n",
      "[17:33:54] Can't kekulize mol.  Unkekulized atoms: 0 1 2 4 5 6 8\n",
      "\n",
      "RDKit ERROR: [17:33:54] non-ring atom 0 marked aromatic\n",
      "RDKit ERROR: [17:33:54] Explicit valence for atom # 0 C, 5, is greater than permitted\n",
      "RDKit ERROR: [17:33:54] Explicit valence for atom # 0 C, 5, is greater than permitted\n",
      "[17:33:54] non-ring atom 0 marked aromatic\n",
      "[17:33:54] Explicit valence for atom # 0 C, 5, is greater than permitted\n",
      "[17:33:54] Explicit valence for atom # 0 C, 5, is greater than permitted\n"
     ]
    }
   ],
   "source": [
    "mols = get_gen_mols(data, nodes_logits, edges_logits, post_method)"
   ]
  },
  {
   "cell_type": "markdown",
   "id": "b3bf8a9f",
   "metadata": {},
   "source": [
    "# Scores"
   ]
  },
  {
   "cell_type": "code",
   "execution_count": 25,
   "id": "8ccaa382",
   "metadata": {},
   "outputs": [],
   "source": [
    "from utils.utils import *"
   ]
  },
  {
   "cell_type": "code",
   "execution_count": 26,
   "id": "b53009ac",
   "metadata": {},
   "outputs": [],
   "source": [
    "m0, m1 = all_scores(mols, data, norm=True)"
   ]
  },
  {
   "cell_type": "code",
   "execution_count": 27,
   "id": "a74998a4",
   "metadata": {
    "scrolled": true
   },
   "outputs": [],
   "source": [
    "data = m0['drugcand']\n",
    "data_avg = sum(data)/len(data)\n",
    "data_std = np.std(data)"
   ]
  },
  {
   "cell_type": "code",
   "execution_count": 28,
   "id": "03893ef7",
   "metadata": {
    "scrolled": false
   },
   "outputs": [
    {
     "data": {
      "text/plain": [
       "Text(0.5, 7, 'mean: 0.41, std: 0.18')"
      ]
     },
     "execution_count": 28,
     "metadata": {},
     "output_type": "execute_result"
    },
    {
     "data": {
      "image/png": "[encoded data removed]",
      "text/plain": [
       "<Figure size 432x288 with 1 Axes>"
      ]
     },
     "metadata": {
      "needs_background": "light"
     },
     "output_type": "display_data"
    }
   ],
   "source": [
    "plt.hist(data, bins=20, density=True)\n",
    "plt.title('Drug-likeness Distribution of MolGAN-generated compounds: {}'.format(test_sample_size))\n",
    "plt.text(0.5, 7, 'mean: {:.2f}, std: {:.2f}'.format(data_avg, data_std))"
   ]
  },
  {
   "cell_type": "code",
   "execution_count": 29,
   "id": "d19bc779",
   "metadata": {},
   "outputs": [],
   "source": [
    "from collections import defaultdict\n",
    "\n",
    "scores = defaultdict(list)\n",
    "\n",
    "for k, v in m1.items():\n",
    "    scores[k].append(v)\n",
    "for k, v in m0.items():\n",
    "    scores[k].append(np.array(v)[np.nonzero(v)].mean())"
   ]
  },
  {
   "cell_type": "code",
   "execution_count": 30,
   "id": "e564c800",
   "metadata": {},
   "outputs": [
    {
     "data": {
      "text/plain": [
       "defaultdict(list,\n",
       "            {'valid': [77.99999713897705],\n",
       "             'unique': [100.0],\n",
       "             'novel': [74.35897435897436],\n",
       "             'NP': [0.9145675207475009],\n",
       "             'QED': [0.46482954250809644],\n",
       "             'Solute': [0.32707430083894345],\n",
       "             'SA': [0.28397694920955857],\n",
       "             'diverse': [0.7099268861770189],\n",
       "             'drugcand': [0.4140894658788428]})"
      ]
     },
     "execution_count": 30,
     "metadata": {},
     "output_type": "execute_result"
    }
   ],
   "source": [
    "scores"
   ]
  },
  {
   "cell_type": "code",
   "execution_count": 31,
   "id": "6f515a0d",
   "metadata": {},
   "outputs": [],
   "source": [
    "v = MolecularMetrics.valid_filter(mols)"
   ]
  },
  {
   "cell_type": "code",
   "execution_count": 32,
   "id": "d6c70673",
   "metadata": {},
   "outputs": [],
   "source": [
    "s = set(map(lambda x: Chem.MolToSmiles(x), v))"
   ]
  },
  {
   "cell_type": "code",
   "execution_count": 33,
   "id": "db9cfeed",
   "metadata": {},
   "outputs": [
    {
     "name": "stdout",
     "output_type": "stream",
     "text": [
      "39\n"
     ]
    }
   ],
   "source": [
    "print(len(s))"
   ]
  },
  {
   "cell_type": "code",
   "execution_count": 34,
   "id": "755d95ca",
   "metadata": {},
   "outputs": [],
   "source": [
    "from rdkit.Chem import Draw\n",
    "\n",
    "unique_mols = list(map(lambda x: Chem.MolFromSmiles(x), s))"
   ]
  },
  {
   "cell_type": "code",
   "execution_count": 35,
   "id": "f4410764",
   "metadata": {},
   "outputs": [],
   "source": [
    "img=Draw.MolsToGridImage(unique_mols[3000:],molsPerRow=8,subImgSize=(200,200), maxMols=500)    "
   ]
  },
  {
   "cell_type": "code",
   "execution_count": 36,
   "id": "64e4ed14",
   "metadata": {},
   "outputs": [
    {
     "data": {
      "image/png": "\n",
      "text/plain": [
       "<IPython.core.display.Image object>"
      ]
     },
     "execution_count": 36,
     "metadata": {},
     "output_type": "execute_result"
    }
   ],
   "source": [
    "img"
   ]
  },
  {
   "cell_type": "markdown",
   "id": "05fc3ba1",
   "metadata": {},
   "source": [
    "df = pd.DataFrame({'SMILES': data} for data in s)"
   ]
  },
  {
   "cell_type": "markdown",
   "id": "210a9d01",
   "metadata": {},
   "source": [
    "df.to_csv('molgan-'+str(resume_iters)+'.csv', index=False)"
   ]
  }
 ],
 "metadata": {
  "kernelspec": {
   "display_name": "Python 3 (ipykernel)",
   "language": "python",
   "name": "python3"
  },
  "language_info": {
   "codemirror_mode": {
    "name": "ipython",
    "version": 3
   },
   "file_extension": ".py",
   "mimetype": "text/x-python",
   "name": "python",
   "nbconvert_exporter": "python",
   "pygments_lexer": "ipython3",
   "version": "3.7.10"
  }
 },
 "nbformat": 4,
 "nbformat_minor": 5
}

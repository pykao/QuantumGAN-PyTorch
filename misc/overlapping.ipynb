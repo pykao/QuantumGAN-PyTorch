{
 "cells": [
  {
   "cell_type": "code",
   "execution_count": 1,
   "id": "0bfcae3d",
   "metadata": {},
   "outputs": [],
   "source": [
    "import pandas as pd\n",
    "from rdkit.Chem import Draw\n",
    "from rdkit import Chem"
   ]
  },
  {
   "cell_type": "code",
   "execution_count": 2,
   "id": "a21b658e",
   "metadata": {
    "scrolled": true
   },
   "outputs": [
    {
     "name": "stdout",
     "output_type": "stream",
     "text": [
      "120 110: 272\n",
      "120 100: 160\n",
      "120 90: 214\n",
      "120 80: 103\n",
      "120 70: 111\n",
      "120 60: 87\n",
      "120 50: 66\n",
      "120 40: 33\n",
      "120 30: 27\n",
      "110 100: 239\n",
      "110 90: 216\n",
      "110 80: 121\n",
      "110 70: 123\n",
      "110 60: 87\n",
      "110 50: 97\n",
      "110 40: 61\n",
      "110 30: 33\n",
      "100 90: 210\n",
      "100 80: 147\n",
      "100 70: 116\n",
      "100 60: 105\n",
      "100 50: 78\n",
      "100 40: 28\n",
      "100 30: 23\n",
      "90 80: 180\n"
     ]
    },
    {
     "name": "stderr",
     "output_type": "stream",
     "text": [
      "RDKit ERROR: [21:31:35] Explicit valence for atom # 4 N, 5, is greater than permitted\n",
      "[21:31:35] Explicit valence for atom # 4 N, 5, is greater than permitted\n"
     ]
    },
    {
     "name": "stdout",
     "output_type": "stream",
     "text": [
      "90 70: 118\n",
      "90 60: 132\n",
      "90 50: 114\n",
      "90 40: 50\n",
      "90 30: 39\n",
      "80 70: 226\n",
      "80 60: 123\n",
      "80 50: 110\n",
      "80 40: 31\n",
      "80 30: 36\n",
      "70 60: 184\n",
      "70 50: 134\n",
      "70 40: 79\n",
      "70 30: 56\n",
      "60 50: 135\n",
      "60 40: 56\n",
      "60 30: 54\n",
      "50 40: 96\n",
      "50 30: 65\n",
      "40 30: 58\n"
     ]
    }
   ],
   "source": [
    "for i in range(120, 20, -10):\n",
    "    for j in range(i-10, 20, -10):\n",
    "        base_df = pd.read_csv('generated_molecules/molgan-'+str(i)+'.csv')\n",
    "        base_set = set(base_df[\"SMILES\"].tolist())\n",
    "        second_df = pd.read_csv('generated_molecules/molgan-'+str(j)+'.csv')\n",
    "        second_set = set(second_df[\"SMILES\"].tolist())\n",
    "        overlapping = list(base_set.intersection(second_set))\n",
    "        overlapping_mols = [Chem.MolFromSmiles(x) for x in overlapping]\n",
    "        if overlapping_mols:\n",
    "            print(\"{} {}: {}\".format(i, j, len(base_set.intersection(second_set))))\n",
    "            img=Draw.MolsToGridImage(overlapping_mols, molsPerRow=8,subImgSize=(200,200), maxMols=300, returnPNG=False)\n",
    "            img.save(str(i)+'-'+str(j)+'.png')\n",
    "        "
   ]
  },
  {
   "cell_type": "code",
   "execution_count": null,
   "id": "c469d59f",
   "metadata": {},
   "outputs": [],
   "source": []
  }
 ],
 "metadata": {
  "kernelspec": {
   "display_name": "Python 3 (ipykernel)",
   "language": "python",
   "name": "python3"
  },
  "language_info": {
   "codemirror_mode": {
    "name": "ipython",
    "version": 3
   },
   "file_extension": ".py",
   "mimetype": "text/x-python",
   "name": "python",
   "nbconvert_exporter": "python",
   "pygments_lexer": "ipython3",
   "version": "3.7.10"
  }
 },
 "nbformat": 4,
 "nbformat_minor": 5
}

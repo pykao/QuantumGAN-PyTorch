{
 "cells": [
  {
   "cell_type": "code",
   "execution_count": 1,
   "id": "b9901b84",
   "metadata": {},
   "outputs": [],
   "source": [
    "import numpy as np\n",
    "import matplotlib.pyplot as plt\n",
    "import os\n",
    "os.chdir('../')"
   ]
  },
  {
   "cell_type": "markdown",
   "id": "e8edf11a",
   "metadata": {},
   "source": [
    "# Gaussian Distribution for MolGAN"
   ]
  },
  {
   "cell_type": "code",
   "execution_count": 2,
   "id": "9cad6706",
   "metadata": {},
   "outputs": [],
   "source": [
    "test_sample_size = 5000\n",
    "z_dim = 8"
   ]
  },
  {
   "cell_type": "code",
   "execution_count": 3,
   "id": "d0253b48",
   "metadata": {},
   "outputs": [],
   "source": [
    "def sample_z(batch_size):\n",
    "    return np.random.normal(0, 1, size=(batch_size, z_dim))"
   ]
  },
  {
   "cell_type": "code",
   "execution_count": 4,
   "id": "78f69397",
   "metadata": {},
   "outputs": [],
   "source": [
    "z = sample_z(test_sample_size)"
   ]
  },
  {
   "cell_type": "code",
   "execution_count": 5,
   "id": "348cd984",
   "metadata": {},
   "outputs": [
    {
     "data": {
      "text/plain": [
       "<Figure size 4320x2160 with 0 Axes>"
      ]
     },
     "metadata": {},
     "output_type": "display_data"
    },
    {
     "data": {
      "image/png": "[encoded data removed]",
      "text/plain": [
       "<Figure size 576x576 with 8 Axes>"
      ]
     },
     "metadata": {
      "needs_background": "light"
     },
     "output_type": "display_data"
    }
   ],
   "source": [
    "fig = plt.figure(figsize=(60, 30))\n",
    "xaxes = ['x1','x2','x3','x4','x5','x6','x7','x8']\n",
    "yaxes = ['y1','y2','y3','y4','y5','y6','y7','y8']\n",
    "titles = '12345678'\n",
    "f,a = plt.subplots(4, 2, figsize=(8,8))\n",
    "a = a.ravel()\n",
    "for idx,ax in enumerate(a):\n",
    "    ax.hist(z[:,idx], bins=100)\n",
    "    ax.set_xlabel(xaxes[idx])\n",
    "    ax.set_ylabel(yaxes[idx])\n",
    "    ax.set_title(titles[idx])\n",
    "plt.tight_layout()"
   ]
  },
  {
   "cell_type": "markdown",
   "id": "46661aa8",
   "metadata": {},
   "source": [
    "# Distributions for Quantum-GAN"
   ]
  },
  {
   "cell_type": "code",
   "execution_count": 6,
   "id": "b7c22abb",
   "metadata": {},
   "outputs": [],
   "source": [
    "import pennylane as qml\n",
    "import random\n",
    "import os\n",
    "import pandas as pd\n",
    "import torch"
   ]
  },
  {
   "cell_type": "code",
   "execution_count": 7,
   "id": "c736094a",
   "metadata": {},
   "outputs": [],
   "source": [
    "qubits = 8\n",
    "\n",
    "layer = 1"
   ]
  },
  {
   "cell_type": "code",
   "execution_count": 8,
   "id": "aaa119b7",
   "metadata": {},
   "outputs": [],
   "source": [
    "dev = qml.device('default.qubit', wires=qubits)\n",
    "@qml.qnode(dev, interface='torch', diff_method='backprop')\n",
    "def gen_circuit(w):\n",
    "    # random noise as generator input\n",
    "    z1 = random.uniform(-1, 1)\n",
    "    z2 = random.uniform(-1, 1)\n",
    "    \n",
    "    # construct generator circuit for both atom vector and node matrix\n",
    "    for i in range(qubits):\n",
    "        qml.RY(np.arcsin(z1), wires=i)\n",
    "        qml.RZ(np.arcsin(z2), wires=i)\n",
    "    for l in range(layer):\n",
    "        for i in range(qubits):\n",
    "            qml.RY(w[i], wires=i)\n",
    "        for i in range(qubits-1):\n",
    "            qml.CNOT(wires=[i, i+1])\n",
    "            qml.RZ(w[i+qubits], wires=i+1)\n",
    "            qml.CNOT(wires=[i, i+1])\n",
    "    return [qml.expval(qml.PauliZ(i)) for i in range(qubits)]"
   ]
  },
  {
   "cell_type": "code",
   "execution_count": 9,
   "id": "57d9c685",
   "metadata": {},
   "outputs": [],
   "source": [
    "#resume_iters = 30\n",
    "#date = '20211122_120334'\n",
    "#model_dir_path = r'/home/ken/projects/QuantumGAN-PyTorch/results/quantum-GAN/'+date+'/train/model_dir'"
   ]
  },
  {
   "cell_type": "code",
   "execution_count": 10,
   "id": "db46e26c",
   "metadata": {},
   "outputs": [],
   "source": [
    "resume_iters = 9\n",
    "model_dir_path = r'/home/ken/projects/QuantumGAN-PyTorch/'"
   ]
  },
  {
   "cell_type": "code",
   "execution_count": 11,
   "id": "ba3525a9",
   "metadata": {},
   "outputs": [],
   "source": [
    "weights_pth = os.path.join(model_dir_path, 'molgan_red_weights.csv')"
   ]
  },
  {
   "cell_type": "code",
   "execution_count": 12,
   "id": "60744b60",
   "metadata": {},
   "outputs": [],
   "source": [
    "weights = pd.read_csv(weights_pth, header=None).iloc[resume_iters-1, 1:].values"
   ]
  },
  {
   "cell_type": "code",
   "execution_count": 13,
   "id": "38781eb0",
   "metadata": {
    "scrolled": true
   },
   "outputs": [],
   "source": [
    "gen_weights = torch.tensor(list(weights), requires_grad=True)"
   ]
  },
  {
   "cell_type": "code",
   "execution_count": 14,
   "id": "350d50a6",
   "metadata": {
    "scrolled": true
   },
   "outputs": [
    {
     "data": {
      "text/plain": [
       "tensor([-1.6019,  1.6125,  1.6131,  1.6161, -1.5948, -1.5263, -1.5824,  1.5636,\n",
       "         0.6353,  1.3074, -3.0123,  2.9525,  2.0888, -1.8074, -1.9992],\n",
       "       dtype=torch.float64, requires_grad=True)"
      ]
     },
     "execution_count": 14,
     "metadata": {},
     "output_type": "execute_result"
    }
   ],
   "source": [
    "gen_weights"
   ]
  },
  {
   "cell_type": "code",
   "execution_count": 15,
   "id": "cd742cc8",
   "metadata": {
    "scrolled": true
   },
   "outputs": [],
   "source": [
    "sample_list = [gen_circuit(gen_weights) for i in range(test_sample_size)]"
   ]
  },
  {
   "cell_type": "code",
   "execution_count": 16,
   "id": "f7b09dad",
   "metadata": {
    "scrolled": true
   },
   "outputs": [],
   "source": [
    "z = torch.stack(tuple(sample_list)).float().detach().numpy()"
   ]
  },
  {
   "cell_type": "code",
   "execution_count": 17,
   "id": "1ca5492e",
   "metadata": {
    "scrolled": true
   },
   "outputs": [
    {
     "data": {
      "text/plain": [
       "<Figure size 4320x2160 with 0 Axes>"
      ]
     },
     "metadata": {},
     "output_type": "display_data"
    },
    {
     "data": {
      "image/png": "[encoded data removed]",
      "text/plain": [
       "<Figure size 576x576 with 8 Axes>"
      ]
     },
     "metadata": {
      "needs_background": "light"
     },
     "output_type": "display_data"
    }
   ],
   "source": [
    "fig = plt.figure(figsize=(60, 30))\n",
    "xaxes = ['x1','x2','x3','x4','x5','x6','x7','x8']\n",
    "yaxes = ['y1','y2','y3','y4','y5','y6','y7','y8']\n",
    "titles = '12345678'\n",
    "f,a = plt.subplots(4, 2, figsize=(8,8))\n",
    "a = a.ravel()\n",
    "for idx,ax in enumerate(a):\n",
    "    ax.hist(z[:,idx], bins=100)\n",
    "    ax.set_xlabel(xaxes[idx])\n",
    "    ax.set_ylabel(yaxes[idx])\n",
    "    ax.set_title(titles[idx])\n",
    "plt.tight_layout()"
   ]
  }
 ],
 "metadata": {
  "kernelspec": {
   "display_name": "Python 3 (ipykernel)",
   "language": "python",
   "name": "python3"
  },
  "language_info": {
   "codemirror_mode": {
    "name": "ipython",
    "version": 3
   },
   "file_extension": ".py",
   "mimetype": "text/x-python",
   "name": "python",
   "nbconvert_exporter": "python",
   "pygments_lexer": "ipython3",
   "version": "3.7.10"
  }
 },
 "nbformat": 4,
 "nbformat_minor": 5
}
